{
 "cells": [
  {
   "cell_type": "code",
   "execution_count": null,
   "metadata": {},
   "outputs": [],
   "source": [
    "from diffusers import AudioLDM2Pipeline, DDPMScheduler\n",
    "import torch\n",
    "import pydub\n",
    "import numpy as np\n",
    "import os\n",
    "import json\n",
    "from tqdm import tqdm\n",
    "import pandas as pd\n",
    "import time\n"
   ]
  },
  {
   "cell_type": "code",
   "execution_count": null,
   "metadata": {},
   "outputs": [],
   "source": [
    "repo_id = \"/code/main\"\n",
    "pipe = AudioLDM2Pipeline.from_pretrained(repo_id, torch_dtype=torch.float16)\n",
    "pipe = pipe.to(\"cuda:0\")\n",
    "pipe.scheduler = DDPMScheduler.from_config(pipe.scheduler.config)\n",
    "steps = 70\n",
    "audio_length_in_s = 10.0\n",
    "guidance_scale = 7"
   ]
  },
  {
   "cell_type": "code",
   "execution_count": null,
   "metadata": {},
   "outputs": [],
   "source": [
    "def export_mp3(path, audio, sr=16000, channels=1):\n",
    "    y = np.int16(audio * 2 ** 15)\n",
    "    song = pydub.AudioSegment(y.tobytes(), frame_rate=sr, sample_width=2, channels=channels)\n",
    "    song.export(path, format=\"mp3\", bitrate=\"24k\")\n",
    "\n",
    "\n",
    "def inference(pipeline, input_file, output_dir, output_csv, generator):\n",
    "    with open(input_file, 'r') as file_obj:\n",
    "        samples = json.load(file_obj)\n",
    "\n",
    "    durations = []\n",
    "    for k, v in tqdm(samples.items()):\n",
    "        output_path = f'{output_dir}/{k}'\n",
    "        start = time.time()\n",
    "        audio = pipe(prompt=v, \n",
    "                    num_inference_steps=steps, \n",
    "                    audio_length_in_s=audio_length_in_s,\n",
    "                    guidance_scale=guidance_scale,\n",
    "                    generator=generator,\n",
    "                    ).audios[0]\n",
    "        export_mp3(output_path, audio)\n",
    "        end = time.time()\n",
    "        durations.append((k, end - start))\n",
    "    \n",
    "    df = pd.DataFrame(data=durations, columns=['fname', 'time'])\n",
    "    df.to_csv(output_csv, index=False)\n"
   ]
  },
  {
   "cell_type": "code",
   "execution_count": null,
   "metadata": {},
   "outputs": [],
   "source": [
    "input_file = '/private/private.json'\n",
    "output_dir_1 = '/results/jupyter_submission1'\n",
    "output_dir_2 = '/results/jupyter_submission2'\n",
    "output_csv_1 = '/results/time_submission1.csv'\n",
    "output_csv_2 = '/results/time_submission2.csv'\n",
    "if not os.path.exists(output_dir_1):\n",
    "    os.makedirs(output_dir_1)\n",
    "\n",
    "if not os.path.exists(output_dir_2):\n",
    "    os.makedirs(output_dir_2)\n",
    "\n",
    "seeds = [789, 987]\n",
    "generators = [\n",
    "    torch.Generator().manual_seed(seed) for seed in seeds\n",
    "]\n"
   ]
  },
  {
   "cell_type": "code",
   "execution_count": null,
   "metadata": {},
   "outputs": [],
   "source": [
    "print(f'Inference for {output_dir_1} ...')\n",
    "inference(pipe, input_file, output_dir_1, output_csv_1, generators[0])\n",
    "print(f'Inference for {output_dir_2} ...')\n",
    "inference(pipe, input_file, output_dir_2, output_csv_2, generators[1])\n",
    "print('End inference .')\n"
   ]
  }
 ],
 "metadata": {
  "kernelspec": {
   "display_name": "base",
   "language": "python",
   "name": "python3"
  },
  "language_info": {
   "name": "python",
   "version": "3.9.16"
  },
  "orig_nbformat": 4
 },
 "nbformat": 4,
 "nbformat_minor": 2
}
